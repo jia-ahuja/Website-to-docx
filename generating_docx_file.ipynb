{
  "nbformat": 4,
  "nbformat_minor": 0,
  "metadata": {
    "colab": {
      "provenance": []
    },
    "kernelspec": {
      "name": "python3",
      "display_name": "Python 3"
    },
    "language_info": {
      "name": "python"
    }
  },
  "cells": [
    {
      "cell_type": "code",
      "source": [
        "!pip install python-docx"
      ],
      "metadata": {
        "id": "jjWWny-WoIEc"
      },
      "execution_count": null,
      "outputs": []
    },
    {
      "cell_type": "code",
      "execution_count": null,
      "metadata": {
        "id": "0na01G1GKDIB"
      },
      "outputs": [],
      "source": [
        "import requests\n",
        "from bs4 import BeautifulSoup\n",
        "from tqdm import tqdm\n",
        "from io import BytesIO\n",
        "from docx.shared import Inches, Pt\n",
        "from docx import Document"
      ]
    },
    {
      "cell_type": "code",
      "source": [
        "url = \"https://nasvete.com/\"\n",
        "response = requests.get(url)\n",
        "soup = BeautifulSoup(response.text, 'html.parser')\n",
        "articles = soup.find_all('article')"
      ],
      "metadata": {
        "id": "hakJgxpjKH7c"
      },
      "execution_count": null,
      "outputs": []
    },
    {
      "cell_type": "code",
      "source": [
        "# Create a new Document\n",
        "doc = Document()"
      ],
      "metadata": {
        "id": "Zez8R9WALlY8"
      },
      "execution_count": null,
      "outputs": []
    },
    {
      "cell_type": "code",
      "source": [
        "def add_heading(text):\n",
        "    heading = doc.add_heading(text, level=1)\n",
        "    heading.runs[0].font.size = Pt(18)\n",
        "\n",
        "def add_paragraph(text):\n",
        "    paragraph = doc.add_paragraph(text)\n",
        "    for run in paragraph.runs:\n",
        "        run.font.size = Pt(12)\n"
      ],
      "metadata": {
        "id": "gTdKqYTALixO"
      },
      "execution_count": null,
      "outputs": []
    },
    {
      "cell_type": "code",
      "source": [
        "def add_image_from_url(doc, image_url, width=6):\n",
        "    response = requests.get(image_url)\n",
        "    image_data = BytesIO(response.content)\n",
        "    doc.add_picture(image_data, width=Inches(width))\n",
        "\n",
        "def add_all_images(html_content):\n",
        "    soup = BeautifulSoup(html_content, 'html.parser')\n",
        "\n",
        "    # Find all div elements with class \"wp-caption alignnone\"\n",
        "    image_divs = soup.find_all('div', class_='wp-caption alignnone')\n",
        "\n",
        "    for div in image_divs:\n",
        "        # Extract image URL\n",
        "        img_tag = div.find('img')\n",
        "        if img_tag and 'src' in img_tag.attrs:\n",
        "            image_url = img_tag['src']\n",
        "\n",
        "            # Add image to document\n",
        "            add_image_from_url(doc, image_url)\n",
        "\n",
        "            # Extract and add caption\n",
        "            caption_p = div.find('p', class_='wp-caption-text')\n",
        "            if caption_p:\n",
        "                doc.add_paragraph(caption_p.text)\n",
        "\n",
        "            # Add a blank line for spacing\n",
        "            doc.add_paragraph()\n"
      ],
      "metadata": {
        "id": "MK8xUMRuQOmd"
      },
      "execution_count": null,
      "outputs": []
    },
    {
      "cell_type": "code",
      "source": [
        "for article in tqdm(articles):\n",
        "\n",
        "  title = article.find('h2').get_text()  ## get the title of the article\n",
        "  para = article.find(class_=\"text_box\").get_text().strip()[:-13]   ## get the article\n",
        "\n",
        "  ## add both to doc file\n",
        "  add_heading(title)\n",
        "  add_paragraph(para)\n",
        "\n",
        "  ## find the \"Read more\" link, and go to that link to extract images in the article\n",
        "  link = article.find('a',class_=\"more-link\").get('href')\n",
        "  content = requests.get(link)\n",
        "  add_all_images(content.text)\n",
        "\n",
        "  ## extra line for spacing after each article\n",
        "  doc.add_paragraph()"
      ],
      "metadata": {
        "colab": {
          "base_uri": "https://localhost:8080/"
        },
        "id": "WVIzzWfONptM",
        "outputId": "b8520650-22d8-41d1-94a3-b559268bc0ec"
      },
      "execution_count": null,
      "outputs": [
        {
          "output_type": "stream",
          "name": "stderr",
          "text": [
            "100%|██████████| 7/7 [01:40<00:00, 14.34s/it]\n"
          ]
        }
      ]
    },
    {
      "cell_type": "code",
      "source": [
        "doc.save('upwork_document.docx')     ## save the docx file"
      ],
      "metadata": {
        "id": "Q6EtElH3O0uI"
      },
      "execution_count": null,
      "outputs": []
    }
  ]
}